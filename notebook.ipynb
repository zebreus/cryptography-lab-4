{
 "cells": [
  {
   "cell_type": "markdown",
   "metadata": {},
   "source": [
    "# Cryptography, Practical 4\n",
    "\n",
    "## Task 1 (Birthday problems)\n",
    "\n",
    "We have `m = 2000` balls numbered from `1` to `2000` in an urn. We draw n balls with replacement."
   ]
  },
  {
   "cell_type": "code",
   "execution_count": 1,
   "metadata": {},
   "outputs": [],
   "source": [
    "const m = 2000\n",
    "\n",
    "// Draw one ball\n",
    "const drawBall = () => {\n",
    "    return Math.floor(Math.random() * m) + 1\n",
    "}\n",
    "\n",
    "// Draw n balls\n",
    "const drawBalls = (n: number) => {\n",
    "    return (new Array(n)).fill(0).map(() => drawBall())\n",
    "}"
   ]
  },
  {
   "cell_type": "markdown",
   "metadata": {},
   "source": [
    "### Which n is the smallest value for which n do we have a chance of at least 50% to draw the *same* ball at least twice?"
   ]
  },
  {
   "cell_type": "markdown",
   "metadata": {},
   "source": [
    "We first try to get an understanding for the problem by implementing an empirical solution. `experimentA(n)` simulates drawing n balls and returns true if there was at least one ball drawn twice. "
   ]
  },
  {
   "cell_type": "code",
   "execution_count": 2,
   "metadata": {},
   "outputs": [
    {
     "data": {
      "text/html": [
       "<figure class=\"plot-d6a7b5-figure\" style=\"max-width: initial;\"><h2></h2><div class=\"plot-d6a7b5-swatches plot-d6a7b5-swatches-wrap\"><style>:where(.plot-d6a7b5-swatches) {\n",
       "  font-family: system-ui, sans-serif;\n",
       "  font-size: 10px;\n",
       "  margin-bottom: 0.5em;\n",
       "}\n",
       ":where(.plot-d6a7b5-swatch > svg) {\n",
       "  margin-right: 0.5em;\n",
       "  overflow: visible;\n",
       "}\n",
       ":where(.plot-d6a7b5-swatches-wrap) {\n",
       "  display: flex;\n",
       "  align-items: center;\n",
       "  min-height: 33px;\n",
       "  flex-wrap: wrap;\n",
       "}\n",
       ":where(.plot-d6a7b5-swatches-wrap .plot-d6a7b5-swatch) {\n",
       "  display: inline-flex;\n",
       "  align-items: center;\n",
       "  margin-right: 1em;\n",
       "}</style><span class=\"plot-d6a7b5-swatch\"><svg width=\"15\" height=\"15\" fill=\"#4269d0\"><rect width=\"100%\" height=\"100%\"></rect></svg>Probability for drawing the same ball twice</span></div><svg class=\"plot-d6a7b5\" fill=\"currentColor\" font-family=\"system-ui, sans-serif\" font-size=\"10\" text-anchor=\"middle\" width=\"640\" height=\"400\" viewBox=\"0 0 640 400\" style=\"background: none; overflow: visible;\"><style>:where(.plot-d6a7b5) {\n",
       "  --plot-background: white;\n",
       "  display: block;\n",
       "  height: auto;\n",
       "  height: intrinsic;\n",
       "  max-width: 100%;\n",
       "}\n",
       ":where(.plot-d6a7b5 text),\n",
       ":where(.plot-d6a7b5 tspan) {\n",
       "  white-space: pre;\n",
       "}</style><g aria-label=\"y-grid\" aria-hidden=\"true\" stroke=\"currentColor\" stroke-opacity=\"0.1\"><line x1=\"40\" x2=\"620\" y1=\"380\" y2=\"380\"></line><line x1=\"40\" x2=\"620\" y1=\"345\" y2=\"345\"></line><line x1=\"40\" x2=\"620\" y1=\"310\" y2=\"310\"></line><line x1=\"40\" x2=\"620\" y1=\"275\" y2=\"275\"></line><line x1=\"40\" x2=\"620\" y1=\"240\" y2=\"240\"></line><line x1=\"40\" x2=\"620\" y1=\"205\" y2=\"205\"></line><line x1=\"40\" x2=\"620\" y1=\"170\" y2=\"170\"></line><line x1=\"40\" x2=\"620\" y1=\"135\" y2=\"135\"></line><line x1=\"40\" x2=\"620\" y1=\"99.99999999999999\" y2=\"99.99999999999999\"></line><line x1=\"40\" x2=\"620\" y1=\"65\" y2=\"65\"></line><line x1=\"40\" x2=\"620\" y1=\"30\" y2=\"30\"></line></g><g aria-label=\"y-axis tick\" aria-hidden=\"true\" fill=\"none\" stroke=\"currentColor\"><path transform=\"translate(40,380)\" d=\"M0,0L-6,0\"></path><path transform=\"translate(40,345)\" d=\"M0,0L-6,0\"></path><path transform=\"translate(40,310)\" d=\"M0,0L-6,0\"></path><path transform=\"translate(40,275)\" d=\"M0,0L-6,0\"></path><path transform=\"translate(40,240)\" d=\"M0,0L-6,0\"></path><path transform=\"translate(40,205)\" d=\"M0,0L-6,0\"></path><path transform=\"translate(40,170)\" d=\"M0,0L-6,0\"></path><path transform=\"translate(40,135)\" d=\"M0,0L-6,0\"></path><path transform=\"translate(40,99.99999999999999)\" d=\"M0,0L-6,0\"></path><path transform=\"translate(40,65)\" d=\"M0,0L-6,0\"></path><path transform=\"translate(40,30)\" d=\"M0,0L-6,0\"></path></g><g aria-label=\"y-axis tick label\" text-anchor=\"end\" font-variant=\"tabular-nums\" transform=\"translate(-9,0)\"><text y=\"0.32em\" transform=\"translate(40,380)\">0.0</text><text y=\"0.32em\" transform=\"translate(40,345)\">0.1</text><text y=\"0.32em\" transform=\"translate(40,310)\">0.2</text><text y=\"0.32em\" transform=\"translate(40,275)\">0.3</text><text y=\"0.32em\" transform=\"translate(40,240)\">0.4</text><text y=\"0.32em\" transform=\"translate(40,205)\">0.5</text><text y=\"0.32em\" transform=\"translate(40,170)\">0.6</text><text y=\"0.32em\" transform=\"translate(40,135)\">0.7</text><text y=\"0.32em\" transform=\"translate(40,99.99999999999999)\">0.8</text><text y=\"0.32em\" transform=\"translate(40,65)\">0.9</text><text y=\"0.32em\" transform=\"translate(40,30)\">1.0</text></g><g aria-label=\"y-axis label\" text-anchor=\"start\" transform=\"translate(-37,-27)\"><text y=\"0.71em\" transform=\"translate(40,30)\">↑ P2</text></g><g aria-label=\"x-grid\" aria-hidden=\"true\" stroke=\"currentColor\" stroke-opacity=\"0.1\"><line x1=\"40\" x2=\"40\" y1=\"30\" y2=\"380\"></line><line x1=\"104.80446927374301\" x2=\"104.80446927374301\" y1=\"30\" y2=\"380\"></line><line x1=\"169.60893854748602\" x2=\"169.60893854748602\" y1=\"30\" y2=\"380\"></line><line x1=\"234.41340782122904\" x2=\"234.41340782122904\" y1=\"30\" y2=\"380\"></line><line x1=\"299.21787709497204\" x2=\"299.21787709497204\" y1=\"30\" y2=\"380\"></line><line x1=\"364.02234636871503\" x2=\"364.02234636871503\" y1=\"30\" y2=\"380\"></line><line x1=\"428.8268156424581\" x2=\"428.8268156424581\" y1=\"30\" y2=\"380\"></line><line x1=\"493.6312849162011\" x2=\"493.6312849162011\" y1=\"30\" y2=\"380\"></line><line x1=\"558.4357541899441\" x2=\"558.4357541899441\" y1=\"30\" y2=\"380\"></line></g><g aria-label=\"x-axis tick\" aria-hidden=\"true\" fill=\"none\" stroke=\"currentColor\"><path transform=\"translate(40,30)\" d=\"M0,0L0,-6\"></path><path transform=\"translate(104.80446927374301,30)\" d=\"M0,0L0,-6\"></path><path transform=\"translate(169.60893854748602,30)\" d=\"M0,0L0,-6\"></path><path transform=\"translate(234.41340782122904,30)\" d=\"M0,0L0,-6\"></path><path transform=\"translate(299.21787709497204,30)\" d=\"M0,0L0,-6\"></path><path transform=\"translate(364.02234636871503,30)\" d=\"M0,0L0,-6\"></path><path transform=\"translate(428.8268156424581,30)\" d=\"M0,0L0,-6\"></path><path transform=\"translate(493.6312849162011,30)\" d=\"M0,0L0,-6\"></path><path transform=\"translate(558.4357541899441,30)\" d=\"M0,0L0,-6\"></path></g><g aria-label=\"x-axis tick label\" font-variant=\"tabular-nums\" transform=\"translate(0,-9)\"><text transform=\"translate(40,30)\">0</text><text transform=\"translate(104.80446927374301,30)\">20</text><text transform=\"translate(169.60893854748602,30)\">40</text><text transform=\"translate(234.41340782122904,30)\">60</text><text transform=\"translate(299.21787709497204,30)\">80</text><text transform=\"translate(364.02234636871503,30)\">100</text><text transform=\"translate(428.8268156424581,30)\">120</text><text transform=\"translate(493.6312849162011,30)\">140</text><text transform=\"translate(558.4357541899441,30)\">160</text></g><g aria-label=\"x-axis label\" text-anchor=\"end\" transform=\"translate(17,-27)\"><text y=\"0.71em\" transform=\"translate(620,30)\">n →</text></g><g aria-label=\"line\" fill=\"none\" stroke-width=\"1.5\" stroke-linejoin=\"round\" stroke-linecap=\"round\"><path stroke=\"#4269d0\" d=\"M40,380L43.24,380L46.48,380L49.721,378.95L52.961,378.95L56.201,378.367L59.441,377.9L62.682,376.033L65.922,374.283L69.162,373.467L72.402,373.117L75.642,370.317L78.883,368.567L82.123,368.567L85.363,364.367L88.603,362.85L91.844,360.517L95.084,359.35L98.324,353.867L101.564,353.283L104.804,351.183L108.045,343.717L111.285,339.983L114.525,334.15L117.765,332.633L121.006,328.55L124.246,322.717L127.486,322.717L130.726,316.417L133.966,313.383L137.207,313.85L140.447,310L143.687,302.183L146.927,297.983L150.168,295.3L153.408,292.5L156.648,281.067L159.888,279.667L163.128,275.35L166.369,268L169.609,263.45L172.849,262.283L176.089,257.267L179.33,249.1L182.57,249.1L185.81,247L189.05,234.633L192.291,236.5L195.531,227.167L198.771,220.983L202.011,220.167L205.251,209.9L208.492,212.583L211.732,204.417L214.972,200.567L218.212,193.917L221.453,187.617L224.693,182.95L227.933,185.283L231.173,171.517L234.413,173.383L237.654,172.217L240.894,164.05L244.134,158.333L247.374,154.833L250.615,152.5L253.855,153.783L257.095,140.133L260.335,142.35L263.575,136.4L266.816,132.433L270.056,129.167L273.296,126.133L276.536,121.7L279.777,124.85L283.017,120.65L286.257,114.7L289.497,108.75L292.737,107.583L295.978,103.033L299.218,100.933L302.458,94.75L305.698,94.867L308.939,93.7L312.179,87.283L315.419,86L318.659,82.383L321.899,83.317L325.14,83.9L328.38,75.033L331.62,77.25L334.86,75.617L338.101,78.417L341.341,68.967L344.581,65.817L347.821,63.483L351.061,65.35L354.302,64.767L357.542,58.933L360.782,57.417L364.022,58.35L367.263,56.367L370.503,54.85L373.743,53.917L376.983,52.05L380.223,51L383.464,52.633L386.704,50.417L389.944,49.95L393.184,49.717L396.425,45.75L399.665,47.383L402.905,45.05L406.145,43.3L409.385,43.3L412.626,41.083L415.866,41.783L419.106,41.9L422.346,40.383L425.587,40.967L428.827,38.867L432.067,37.817L435.307,39.217L438.547,38.867L441.788,40.15L445.028,34.9L448.268,37.35L451.508,36.533L454.749,36.417L457.989,36.65L461.229,35.25L464.469,34.2L467.709,35.017L470.95,33.033L474.19,33.033L477.43,33.617L480.67,32.217L483.911,33.5L487.151,32.333L490.391,32.217L493.631,32.333L496.872,32.45L500.112,31.867L503.352,31.75L506.592,31.05L509.832,30.583L513.073,31.283L516.313,31.983L519.553,30.817L522.793,31.867L526.034,30.817L529.274,30.933L532.514,30.583L535.754,31.517L538.994,30.35L542.235,30.35L545.475,30.7L548.715,30.583L551.955,30.583L555.196,30.7L558.436,30.933L561.676,30.233L564.916,30.35L568.156,30.583L571.397,30.233L574.637,30.233L577.877,30.467L581.117,30.117L584.358,30.583L587.598,30.117L590.838,30.233L594.078,30.117L597.318,30.117L600.559,30.35L603.799,30.233L607.039,30L610.279,30.117L613.52,30.233L616.76,30L620,30.117\"></path></g><g aria-label=\"text\" text-anchor=\"start\" transform=\"translate(3,0)\"><text y=\"0.32em\" transform=\"translate(620,30.116666666666653)\">Probability for drawing the same ball twice</text></g></svg></figure>"
      ]
     },
     "execution_count": 2,
     "metadata": {},
     "output_type": "execute_result"
    }
   ],
   "source": [
    "import { plotFunctions } from \"./helper.ts\";\n",
    "\n",
    "const experimentA = (n: number) => {\n",
    "    const balls: Array<number> = drawBalls(n).sort()\n",
    "    const longestRun = balls.reduce(([max, current, value], ball) => {\n",
    "        const nextCurrent = ball == value ? current + 1 : 1;\n",
    "        const nextValue = ball\n",
    "        const nextMax = Math.max(max, nextCurrent)\n",
    "        return [nextMax, nextCurrent, nextValue]\n",
    "    }, [0,0,0])[0]\n",
    "    return longestRun >= 2\n",
    "}\n",
    "\n",
    "const empiricalP2 = (n: number, samples: number) => {\n",
    "    const experiments = Array(samples).fill(0).map(() => experimentA(n))\n",
    "    const probability = experiments.reduce((rate, result) => rate + (result ? 1 : 0), 0) / samples\n",
    "    return probability\n",
    "}\n",
    "\n",
    "await plotFunctions({\n",
    "  from: 0,\n",
    "  to: Math.ceil(Math.sqrt(m))*4,\n",
    "  step: 1,\n",
    "  xName: \"n\",\n",
    "  yName: \"P2\",\n",
    "  colorName: \"__color\",\n",
    "  data: [\n",
    "    [\n",
    "      \"Probability for drawing the same ball twice\",\n",
    "      (n) => empiricalP2(n, 3000),\n",
    "    ]\n",
    "  ],\n",
    "});"
   ]
  },
  {
   "cell_type": "code",
   "execution_count": 3,
   "metadata": {},
   "outputs": [
    {
     "data": {
      "text/html": [
       "<figure class=\"plot-d6a7b5-figure\" style=\"max-width: initial;\"><h2></h2><div class=\"plot-d6a7b5-swatches plot-d6a7b5-swatches-wrap\"><style>:where(.plot-d6a7b5-swatches) {\n",
       "  font-family: system-ui, sans-serif;\n",
       "  font-size: 10px;\n",
       "  margin-bottom: 0.5em;\n",
       "}\n",
       ":where(.plot-d6a7b5-swatch > svg) {\n",
       "  margin-right: 0.5em;\n",
       "  overflow: visible;\n",
       "}\n",
       ":where(.plot-d6a7b5-swatches-wrap) {\n",
       "  display: flex;\n",
       "  align-items: center;\n",
       "  min-height: 33px;\n",
       "  flex-wrap: wrap;\n",
       "}\n",
       ":where(.plot-d6a7b5-swatches-wrap .plot-d6a7b5-swatch) {\n",
       "  display: inline-flex;\n",
       "  align-items: center;\n",
       "  margin-right: 1em;\n",
       "}</style><span class=\"plot-d6a7b5-swatch\"><svg width=\"15\" height=\"15\" fill=\"#4269d0\"><rect width=\"100%\" height=\"100%\"></rect></svg>Probability for drawing the first ball twice</span></div><svg class=\"plot-d6a7b5\" fill=\"currentColor\" font-family=\"system-ui, sans-serif\" font-size=\"10\" text-anchor=\"middle\" width=\"640\" height=\"400\" viewBox=\"0 0 640 400\" style=\"background: none; overflow: visible;\"><style>:where(.plot-d6a7b5) {\n",
       "  --plot-background: white;\n",
       "  display: block;\n",
       "  height: auto;\n",
       "  height: intrinsic;\n",
       "  max-width: 100%;\n",
       "}\n",
       ":where(.plot-d6a7b5 text),\n",
       ":where(.plot-d6a7b5 tspan) {\n",
       "  white-space: pre;\n",
       "}</style><g aria-label=\"y-grid\" aria-hidden=\"true\" stroke=\"currentColor\" stroke-opacity=\"0.1\"><line x1=\"40\" x2=\"620\" y1=\"380\" y2=\"380\"></line><line x1=\"40\" x2=\"620\" y1=\"344.94156928213687\" y2=\"344.94156928213687\"></line><line x1=\"40\" x2=\"620\" y1=\"309.8831385642738\" y2=\"309.8831385642738\"></line><line x1=\"40\" x2=\"620\" y1=\"274.82470784641066\" y2=\"274.82470784641066\"></line><line x1=\"40\" x2=\"620\" y1=\"239.76627712854756\" y2=\"239.76627712854756\"></line><line x1=\"40\" x2=\"620\" y1=\"204.70784641068448\" y2=\"204.70784641068448\"></line><line x1=\"40\" x2=\"620\" y1=\"169.64941569282135\" y2=\"169.64941569282135\"></line><line x1=\"40\" x2=\"620\" y1=\"134.59098497495827\" y2=\"134.59098497495827\"></line><line x1=\"40\" x2=\"620\" y1=\"99.53255425709511\" y2=\"99.53255425709511\"></line><line x1=\"40\" x2=\"620\" y1=\"64.47412353923204\" y2=\"64.47412353923204\"></line></g><g aria-label=\"y-axis tick\" aria-hidden=\"true\" fill=\"none\" stroke=\"currentColor\"><path transform=\"translate(40,380)\" d=\"M0,0L-6,0\"></path><path transform=\"translate(40,344.94156928213687)\" d=\"M0,0L-6,0\"></path><path transform=\"translate(40,309.8831385642738)\" d=\"M0,0L-6,0\"></path><path transform=\"translate(40,274.82470784641066)\" d=\"M0,0L-6,0\"></path><path transform=\"translate(40,239.76627712854756)\" d=\"M0,0L-6,0\"></path><path transform=\"translate(40,204.70784641068448)\" d=\"M0,0L-6,0\"></path><path transform=\"translate(40,169.64941569282135)\" d=\"M0,0L-6,0\"></path><path transform=\"translate(40,134.59098497495827)\" d=\"M0,0L-6,0\"></path><path transform=\"translate(40,99.53255425709511)\" d=\"M0,0L-6,0\"></path><path transform=\"translate(40,64.47412353923204)\" d=\"M0,0L-6,0\"></path></g><g aria-label=\"y-axis tick label\" text-anchor=\"end\" font-variant=\"tabular-nums\" transform=\"translate(-9,0)\"><text y=\"0.32em\" transform=\"translate(40,380)\">0.0</text><text y=\"0.32em\" transform=\"translate(40,344.94156928213687)\">0.1</text><text y=\"0.32em\" transform=\"translate(40,309.8831385642738)\">0.2</text><text y=\"0.32em\" transform=\"translate(40,274.82470784641066)\">0.3</text><text y=\"0.32em\" transform=\"translate(40,239.76627712854756)\">0.4</text><text y=\"0.32em\" transform=\"translate(40,204.70784641068448)\">0.5</text><text y=\"0.32em\" transform=\"translate(40,169.64941569282135)\">0.6</text><text y=\"0.32em\" transform=\"translate(40,134.59098497495827)\">0.7</text><text y=\"0.32em\" transform=\"translate(40,99.53255425709511)\">0.8</text><text y=\"0.32em\" transform=\"translate(40,64.47412353923204)\">0.9</text></g><g aria-label=\"y-axis label\" text-anchor=\"start\" transform=\"translate(-37,-27)\"><text y=\"0.71em\" transform=\"translate(40,30)\">↑ P2</text></g><g aria-label=\"x-grid\" aria-hidden=\"true\" stroke=\"currentColor\" stroke-opacity=\"0.1\"><line x1=\"40\" x2=\"40\" y1=\"30\" y2=\"380\"></line><line x1=\"137.47899159663865\" x2=\"137.47899159663865\" y1=\"30\" y2=\"380\"></line><line x1=\"234.95798319327733\" x2=\"234.95798319327733\" y1=\"30\" y2=\"380\"></line><line x1=\"332.43697478991595\" x2=\"332.43697478991595\" y1=\"30\" y2=\"380\"></line><line x1=\"429.91596638655466\" x2=\"429.91596638655466\" y1=\"30\" y2=\"380\"></line><line x1=\"527.3949579831933\" x2=\"527.3949579831933\" y1=\"30\" y2=\"380\"></line></g><g aria-label=\"x-axis tick\" aria-hidden=\"true\" fill=\"none\" stroke=\"currentColor\"><path transform=\"translate(40,30)\" d=\"M0,0L0,-6\"></path><path transform=\"translate(137.47899159663865,30)\" d=\"M0,0L0,-6\"></path><path transform=\"translate(234.95798319327733,30)\" d=\"M0,0L0,-6\"></path><path transform=\"translate(332.43697478991595,30)\" d=\"M0,0L0,-6\"></path><path transform=\"translate(429.91596638655466,30)\" d=\"M0,0L0,-6\"></path><path transform=\"translate(527.3949579831933,30)\" d=\"M0,0L0,-6\"></path></g><g aria-label=\"x-axis tick label\" font-variant=\"tabular-nums\" transform=\"translate(0,-9)\"><text transform=\"translate(40,30)\">0</text><text transform=\"translate(137.47899159663865,30)\">2,000</text><text transform=\"translate(234.95798319327733,30)\">4,000</text><text transform=\"translate(332.43697478991595,30)\">6,000</text><text transform=\"translate(429.91596638655466,30)\">8,000</text><text transform=\"translate(527.3949579831933,30)\">10,000</text></g><g aria-label=\"x-axis label\" text-anchor=\"end\" transform=\"translate(17,-27)\"><text y=\"0.71em\" transform=\"translate(620,30)\">n →</text></g><g aria-label=\"line\" fill=\"none\" stroke-width=\"1.5\" stroke-linejoin=\"round\" stroke-linecap=\"round\"><path stroke=\"#4269d0\" d=\"M40,380L44.874,362.237L49.748,348.447L54.622,329.516L59.496,322.387L64.37,307.078L69.244,290.952L74.118,279.733L78.992,262.788L83.866,256.127L88.739,245.726L93.613,229.599L98.487,217.212L103.361,213.239L108.235,205.175L113.109,193.489L117.983,189.983L122.857,178.765L127.731,179.115L132.605,159.599L137.479,156.795L142.353,151.302L147.227,147.913L152.101,140.2L156.975,136.928L161.849,130.501L166.723,123.489L171.597,118.581L176.471,116.244L181.345,111.92L186.218,106.311L191.092,107.596L195.966,97.78L200.84,95.676L205.714,93.689L210.588,89.015L215.462,82.938L220.336,84.107L225.21,81.77L230.084,79.316L234.958,77.679L239.832,78.614L244.706,68.915L249.58,74.407L254.454,66.227L259.328,64.007L264.202,64.124L269.076,64.24L273.95,61.319L278.824,62.254L283.697,56.411L288.571,56.294L293.445,54.658L298.319,56.878L303.193,55.359L308.067,51.386L312.941,52.087L317.815,51.269L322.689,52.437L327.563,47.529L332.437,45.426L337.311,44.841L342.185,45.893L347.059,44.257L351.933,44.14L356.807,45.192L361.681,42.27L366.555,41.686L371.429,40.751L376.303,39.583L381.176,39.349L386.05,40.634L390.924,38.881L395.798,39.933L400.672,37.596L405.546,37.362L410.42,38.414L415.294,37.245L420.168,36.661L425.042,34.908L429.916,34.324L434.79,36.661L439.664,35.843L444.538,34.324L449.412,35.142L454.286,35.843L459.16,34.207L464.034,33.506L468.908,33.155L473.782,33.272L478.655,33.74L483.529,31.753L488.403,32.22L493.277,32.337L498.151,32.922L503.025,32.805L507.899,32.922L512.773,33.272L517.647,31.636L522.521,32.922L527.395,32.337L532.269,32.454L537.143,31.987L542.017,30.935L546.891,31.519L551.765,31.169L556.639,30.935L561.513,30.935L566.387,31.87L571.261,30.701L576.134,31.285L581.008,30.467L585.882,30.818L590.756,30.467L595.63,30.584L600.504,30.467L605.378,30.351L610.252,30.584L615.126,30.935L620,30\"></path></g><g aria-label=\"text\" text-anchor=\"start\" transform=\"translate(3,0)\"><text y=\"0.32em\" transform=\"translate(620,30)\">Probability for drawing the first ball twice</text></g></svg></figure>"
      ]
     },
     "execution_count": 3,
     "metadata": {},
     "output_type": "execute_result"
    }
   ],
   "source": [
    "import { plotFunctions } from \"./helper.ts\";\n",
    "\n",
    "const experimentB = (n: number) => {\n",
    "    const balls: Array<number> = drawBalls(n)\n",
    "    const firstBall = balls[0] ?? 0\n",
    "    const longestRun = balls.reduce((value, ball) => {\n",
    "        return ball == firstBall ? value + 1 : value;\n",
    "    }, 0)\n",
    "    return longestRun >= 2\n",
    "}\n",
    "\n",
    "const empiricalP2 = (n: number, samples: number) => {\n",
    "    const experiments = Array(samples).fill(0).map(() => experimentB(n))\n",
    "    const probability = experiments.reduce((rate, result) => rate + (result ? 1 : 0), 0) / samples\n",
    "    return probability\n",
    "}\n",
    "\n",
    "await plotFunctions({\n",
    "  from: 0,\n",
    "  to: m*6,\n",
    "  step: 100,\n",
    "  xName: \"n\",\n",
    "  yName: \"P2\",\n",
    "  colorName: \"__color\",\n",
    "  data: [\n",
    "    [\n",
    "      \"Probability for drawing the first ball twice\",\n",
    "      (n) => empiricalP2(n, 3000),\n",
    "    ]\n",
    "  ],\n",
    "});"
   ]
  },
  {
   "cell_type": "markdown",
   "metadata": {},
   "source": [
    "## Task 2: Run time of cryptographic hash functions\n",
    "\n",
    "For the second task we compared the runtime of three cryptographic hash functions.\n",
    "\n",
    "* `md5`\n",
    "* `sha1`\n",
    "* `sha256`\n",
    "\n",
    "We tested the performance of the different algorithms when hashing 256 Mebibytes (2^28) of random data generated with the following script:"
   ]
  },
  {
   "cell_type": "code",
   "execution_count": 4,
   "metadata": {},
   "outputs": [],
   "source": [
    "import { cryptoRandomString } from \"https://deno.land/x/crypto_random_string@1.0.0/mod.ts\"\n",
    "\n",
    "const benchmarkFileSize = Math.pow(2,28)\n",
    "\n",
    "const randomData = cryptoRandomString({length: benchmarkFileSize});\n",
    "const randomDataBuffer = new TextEncoder().encode(randomData);\n",
    "await Deno.writeFile(\"/tmp/randomData\", randomDataBuffer);"
   ]
  },
  {
   "cell_type": "code",
   "execution_count": 5,
   "metadata": {},
   "outputs": [
    {
     "data": {
      "text/html": [
       "<figure class=\"plot-d6a7b5-figure\" style=\"max-width: initial;\"><h2></h2><svg class=\"plot-d6a7b5\" fill=\"currentColor\" font-family=\"system-ui, sans-serif\" font-size=\"10\" text-anchor=\"middle\" width=\"640\" height=\"180\" viewBox=\"0 0 640 180\" style=\"background: none; overflow: visible;\"><style>:where(.plot-d6a7b5) {\n",
       "  --plot-background: white;\n",
       "  display: block;\n",
       "  height: auto;\n",
       "  height: intrinsic;\n",
       "  max-width: 100%;\n",
       "}\n",
       ":where(.plot-d6a7b5 text),\n",
       ":where(.plot-d6a7b5 tspan) {\n",
       "  white-space: pre;\n",
       "}</style><g aria-label=\"fy-axis tick label\" transform=\"translate(-9,0)\"><g text-anchor=\"end\" transform=\"translate(0,0)\"><text y=\"0.32em\" transform=\"translate(50,40)\">md5 coreutils</text></g><g text-anchor=\"end\" transform=\"translate(0,22)\"><text y=\"0.32em\" transform=\"translate(50,40)\">md5 openssl</text></g><g text-anchor=\"end\" transform=\"translate(0,44)\"><text y=\"0.32em\" transform=\"translate(50,40)\">sha1 coreutils</text></g><g text-anchor=\"end\" transform=\"translate(0,66)\"><text y=\"0.32em\" transform=\"translate(50,40)\">sha1 openssl</text></g><g text-anchor=\"end\" transform=\"translate(0,88)\"><text y=\"0.32em\" transform=\"translate(50,40)\">sha256 coreutils</text></g><g text-anchor=\"end\" transform=\"translate(0,110)\"><text y=\"0.32em\" transform=\"translate(50,40)\">sha256 openssl</text></g></g><g aria-label=\"fy-axis label\" transform=\"translate(-47,0)\"><text y=\"0.71em\" transform=\"translate(50,95) rotate(-90)\"></text></g><g aria-label=\"x-grid\" aria-hidden=\"true\"><g stroke=\"currentColor\" stroke-opacity=\"0.1\" transform=\"translate(0,0)\"><line x1=\"50\" x2=\"50\" y1=\"30\" y2=\"50\"></line><line x1=\"131.42857142857144\" x2=\"131.42857142857144\" y1=\"30\" y2=\"50\"></line><line x1=\"212.85714285714286\" x2=\"212.85714285714286\" y1=\"30\" y2=\"50\"></line><line x1=\"294.2857142857143\" x2=\"294.2857142857143\" y1=\"30\" y2=\"50\"></line><line x1=\"375.7142857142857\" x2=\"375.7142857142857\" y1=\"30\" y2=\"50\"></line><line x1=\"457.14285714285717\" x2=\"457.14285714285717\" y1=\"30\" y2=\"50\"></line><line x1=\"538.5714285714286\" x2=\"538.5714285714286\" y1=\"30\" y2=\"50\"></line><line x1=\"620\" x2=\"620\" y1=\"30\" y2=\"50\"></line></g><g stroke=\"currentColor\" stroke-opacity=\"0.1\" transform=\"translate(0,22)\"><line x1=\"50\" x2=\"50\" y1=\"30\" y2=\"50\"></line><line x1=\"131.42857142857144\" x2=\"131.42857142857144\" y1=\"30\" y2=\"50\"></line><line x1=\"212.85714285714286\" x2=\"212.85714285714286\" y1=\"30\" y2=\"50\"></line><line x1=\"294.2857142857143\" x2=\"294.2857142857143\" y1=\"30\" y2=\"50\"></line><line x1=\"375.7142857142857\" x2=\"375.7142857142857\" y1=\"30\" y2=\"50\"></line><line x1=\"457.14285714285717\" x2=\"457.14285714285717\" y1=\"30\" y2=\"50\"></line><line x1=\"538.5714285714286\" x2=\"538.5714285714286\" y1=\"30\" y2=\"50\"></line><line x1=\"620\" x2=\"620\" y1=\"30\" y2=\"50\"></line></g><g stroke=\"currentColor\" stroke-opacity=\"0.1\" transform=\"translate(0,44)\"><line x1=\"50\" x2=\"50\" y1=\"30\" y2=\"50\"></line><line x1=\"131.42857142857144\" x2=\"131.42857142857144\" y1=\"30\" y2=\"50\"></line><line x1=\"212.85714285714286\" x2=\"212.85714285714286\" y1=\"30\" y2=\"50\"></line><line x1=\"294.2857142857143\" x2=\"294.2857142857143\" y1=\"30\" y2=\"50\"></line><line x1=\"375.7142857142857\" x2=\"375.7142857142857\" y1=\"30\" y2=\"50\"></line><line x1=\"457.14285714285717\" x2=\"457.14285714285717\" y1=\"30\" y2=\"50\"></line><line x1=\"538.5714285714286\" x2=\"538.5714285714286\" y1=\"30\" y2=\"50\"></line><line x1=\"620\" x2=\"620\" y1=\"30\" y2=\"50\"></line></g><g stroke=\"currentColor\" stroke-opacity=\"0.1\" transform=\"translate(0,66)\"><line x1=\"50\" x2=\"50\" y1=\"30\" y2=\"50\"></line><line x1=\"131.42857142857144\" x2=\"131.42857142857144\" y1=\"30\" y2=\"50\"></line><line x1=\"212.85714285714286\" x2=\"212.85714285714286\" y1=\"30\" y2=\"50\"></line><line x1=\"294.2857142857143\" x2=\"294.2857142857143\" y1=\"30\" y2=\"50\"></line><line x1=\"375.7142857142857\" x2=\"375.7142857142857\" y1=\"30\" y2=\"50\"></line><line x1=\"457.14285714285717\" x2=\"457.14285714285717\" y1=\"30\" y2=\"50\"></line><line x1=\"538.5714285714286\" x2=\"538.5714285714286\" y1=\"30\" y2=\"50\"></line><line x1=\"620\" x2=\"620\" y1=\"30\" y2=\"50\"></line></g><g stroke=\"currentColor\" stroke-opacity=\"0.1\" transform=\"translate(0,88)\"><line x1=\"50\" x2=\"50\" y1=\"30\" y2=\"50\"></line><line x1=\"131.42857142857144\" x2=\"131.42857142857144\" y1=\"30\" y2=\"50\"></line><line x1=\"212.85714285714286\" x2=\"212.85714285714286\" y1=\"30\" y2=\"50\"></line><line x1=\"294.2857142857143\" x2=\"294.2857142857143\" y1=\"30\" y2=\"50\"></line><line x1=\"375.7142857142857\" x2=\"375.7142857142857\" y1=\"30\" y2=\"50\"></line><line x1=\"457.14285714285717\" x2=\"457.14285714285717\" y1=\"30\" y2=\"50\"></line><line x1=\"538.5714285714286\" x2=\"538.5714285714286\" y1=\"30\" y2=\"50\"></line><line x1=\"620\" x2=\"620\" y1=\"30\" y2=\"50\"></line></g><g stroke=\"currentColor\" stroke-opacity=\"0.1\" transform=\"translate(0,110)\"><line x1=\"50\" x2=\"50\" y1=\"30\" y2=\"50\"></line><line x1=\"131.42857142857144\" x2=\"131.42857142857144\" y1=\"30\" y2=\"50\"></line><line x1=\"212.85714285714286\" x2=\"212.85714285714286\" y1=\"30\" y2=\"50\"></line><line x1=\"294.2857142857143\" x2=\"294.2857142857143\" y1=\"30\" y2=\"50\"></line><line x1=\"375.7142857142857\" x2=\"375.7142857142857\" y1=\"30\" y2=\"50\"></line><line x1=\"457.14285714285717\" x2=\"457.14285714285717\" y1=\"30\" y2=\"50\"></line><line x1=\"538.5714285714286\" x2=\"538.5714285714286\" y1=\"30\" y2=\"50\"></line><line x1=\"620\" x2=\"620\" y1=\"30\" y2=\"50\"></line></g></g><g aria-label=\"x-axis tick\" aria-hidden=\"true\"><g fill=\"none\" stroke=\"currentColor\" transform=\"translate(0,0)\"><path transform=\"translate(50,30)\" d=\"M0,0L0,-6\"></path><path transform=\"translate(131.42857142857144,30)\" d=\"M0,0L0,-6\"></path><path transform=\"translate(212.85714285714286,30)\" d=\"M0,0L0,-6\"></path><path transform=\"translate(294.2857142857143,30)\" d=\"M0,0L0,-6\"></path><path transform=\"translate(375.7142857142857,30)\" d=\"M0,0L0,-6\"></path><path transform=\"translate(457.14285714285717,30)\" d=\"M0,0L0,-6\"></path><path transform=\"translate(538.5714285714286,30)\" d=\"M0,0L0,-6\"></path><path transform=\"translate(620,30)\" d=\"M0,0L0,-6\"></path></g></g><g aria-label=\"x-axis tick label\" transform=\"translate(0,-9)\"><g font-variant=\"tabular-nums\" transform=\"translate(0,0)\"><text transform=\"translate(50,30)\">0</text><text transform=\"translate(131.42857142857144,30)\">200</text><text transform=\"translate(212.85714285714286,30)\">400</text><text transform=\"translate(294.2857142857143,30)\">600</text><text transform=\"translate(375.7142857142857,30)\">800</text><text transform=\"translate(457.14285714285717,30)\">1,000</text><text transform=\"translate(538.5714285714286,30)\">1,200</text><text transform=\"translate(620,30)\">1,400</text></g></g><g aria-label=\"x-axis label\" text-anchor=\"end\" transform=\"translate(17,-27)\"><text y=\"0.71em\" transform=\"translate(620,30)\">Milliseconds →</text></g><g aria-label=\"rule\"><g stroke=\"currentColor\" transform=\"translate(0,0)\"><line x1=\"244.98101842143143\" x2=\"245.8701447285853\" y1=\"40\" y2=\"40\"></line></g><g stroke=\"currentColor\" transform=\"translate(0,22)\"><line x1=\"246.48182394287184\" x2=\"261.59297505715676\" y1=\"40\" y2=\"40\"></line></g><g stroke=\"currentColor\" transform=\"translate(0,44)\"><line x1=\"251.02870946428823\" x2=\"254.7404924642644\" y1=\"40\" y2=\"40\"></line></g><g stroke=\"currentColor\" transform=\"translate(0,66)\"><line x1=\"144.97633468570504\" x2=\"149.87450795001683\" y1=\"40\" y2=\"40\"></line></g><g stroke=\"currentColor\" transform=\"translate(0,88)\"><line x1=\"540.5132724071237\" x2=\"562.4655419428883\" y1=\"40\" y2=\"40\"></line></g><g stroke=\"currentColor\" transform=\"translate(0,110)\"><line x1=\"152.4101521357478\" x2=\"154.64771156430362\" y1=\"40\" y2=\"40\"></line></g></g><g aria-label=\"bar\"><g fill=\"#ccc\" transform=\"translate(0,0)\"><rect x=\"244.98101842143143\" width=\"0.5632984285517182\" y=\"30\" height=\"20\"></rect></g><g fill=\"#ccc\" transform=\"translate(0,22)\"><rect x=\"246.9744097999921\" width=\"6.825822878563258\" y=\"30\" height=\"20\"></rect></g><g fill=\"#ccc\" transform=\"translate(0,44)\"><rect x=\"251.02870946428823\" width=\"2.075695714288827\" y=\"30\" height=\"20\"></rect></g><g fill=\"#ccc\" transform=\"translate(0,66)\"><rect x=\"145.93963061430838\" width=\"2.9021301642750643\" y=\"30\" height=\"20\"></rect></g><g fill=\"#ccc\" transform=\"translate(0,88)\"><rect x=\"543.5691560000023\" width=\"10.188480471423873\" y=\"30\" height=\"20\"></rect></g><g fill=\"#ccc\" transform=\"translate(0,110)\"><rect x=\"152.48679270714806\" width=\"1.3576382142973955\" y=\"30\" height=\"20\"></rect></g></g><g aria-label=\"tick\"><g stroke=\"currentColor\" stroke-width=\"2\" transform=\"translate(0,0)\"><line x1=\"245.03059172852744\" x2=\"245.03059172852744\" y1=\"30\" y2=\"50\"></line></g><g stroke=\"currentColor\" stroke-width=\"2\" transform=\"translate(0,22)\"><line x1=\"247.76304144287963\" x2=\"247.76304144287963\" y1=\"30\" y2=\"50\"></line></g><g stroke=\"currentColor\" stroke-width=\"2\" transform=\"translate(0,44)\"><line x1=\"252.85987110716275\" x2=\"252.85987110716275\" y1=\"30\" y2=\"50\"></line></g><g stroke=\"currentColor\" stroke-width=\"2\" transform=\"translate(0,66)\"><line x1=\"148.47134709284958\" x2=\"148.47134709284958\" y1=\"30\" y2=\"50\"></line></g><g stroke=\"currentColor\" stroke-width=\"2\" transform=\"translate(0,88)\"><line x1=\"552.2492536143043\" x2=\"552.2492536143043\" y1=\"30\" y2=\"50\"></line></g><g stroke=\"currentColor\" stroke-width=\"2\" transform=\"translate(0,110)\"><line x1=\"153.74483970713834\" x2=\"153.74483970713834\" y1=\"30\" y2=\"50\"></line></g></g><g aria-label=\"dot\"><g fill=\"none\" stroke=\"currentColor\" stroke-width=\"1.5\" transform=\"translate(0,0)\"><circle cx=\"243.64196627855668\" cy=\"40\" r=\"3\"></circle></g><g fill=\"none\" stroke=\"currentColor\" stroke-width=\"1.5\" transform=\"translate(0,44)\"><circle cx=\"247.04139701430518\" cy=\"40\" r=\"3\"></circle></g></g></svg></figure>"
      ]
     },
     "execution_count": 5,
     "metadata": {},
     "output_type": "execute_result"
    }
   ],
   "source": [
    "import { plotBoxes, samples } from \"./helper.ts\";\n",
    "\n",
    "const benchmarkOpenssl = (algorithm: \"md5\" | \"sha1\" | \"sha256\") => {\n",
    "  const command = new Deno.Command(\"openssl\", {\n",
    "      args: [\"dgst\", `-${algorithm}`, \"/tmp/randomData\"]\n",
    "  });\n",
    "  \n",
    "  const start = performance.now();\n",
    "  command.outputSync();\n",
    "  return performance.now() - start;\n",
    "}\n",
    "\n",
    "const benchmarkCoreutils = (algorithm: \"md5\" | \"sha1\" | \"sha256\") => {\n",
    "  const command = new Deno.Command(`${algorithm}sum`, {\n",
    "      args: [\"/tmp/randomData\"]\n",
    "  });\n",
    "  \n",
    "  const start = performance.now();\n",
    "  command.outputSync();\n",
    "  return performance.now() - start;\n",
    "}\n",
    "\n",
    "\n",
    "plotBoxes({\n",
    "    data: [[\n",
    "      [\"md5 openssl\", samples(5, ()=>benchmarkOpenssl(\"md5\"))],\n",
    "      [\"md5 coreutils\", samples(5, ()=>benchmarkCoreutils(\"md5\"))],\n",
    "      [\"sha1 openssl\", samples(5, ()=>benchmarkOpenssl(\"sha1\"))],\n",
    "      [\"sha1 coreutils\", samples(5, ()=>benchmarkCoreutils(\"sha1\"))],\n",
    "      [\"sha256 openssl\", samples(5, ()=>benchmarkOpenssl(\"sha256\"))],\n",
    "      [\"sha256 coreutils\", samples(5, ()=>benchmarkCoreutils(\"sha256\"))],\n",
    "    ]],\n",
    "    yName: \"Milliseconds\",\n",
    "    xName: \"\",\n",
    "  });"
   ]
  },
  {
   "cell_type": "markdown",
   "metadata": {},
   "source": [
    "We compared the openssl and the coreutils implementations for the three hashing algorithms. The chart above shows our results. Turns out that the OpenSSL implementation is always the faster than the coreutils implementation.\n",
    "\n",
    "Next we want to estimate the performance for hashing one TiB (2^40). We use the benchmark function we defined earlier and multiply their result by the size difference between 256 Mebibyte and 1 Tibibyte. The following chart shows our results:"
   ]
  },
  {
   "cell_type": "code",
   "execution_count": 8,
   "metadata": {},
   "outputs": [
    {
     "data": {
      "text/html": [
       "<figure class=\"plot-d6a7b5-figure\" style=\"max-width: initial;\"><h2></h2><svg class=\"plot-d6a7b5\" fill=\"currentColor\" font-family=\"system-ui, sans-serif\" font-size=\"10\" text-anchor=\"middle\" width=\"640\" height=\"120\" viewBox=\"0 0 640 120\" style=\"background: none; overflow: visible;\"><style>:where(.plot-d6a7b5) {\n",
       "  --plot-background: white;\n",
       "  display: block;\n",
       "  height: auto;\n",
       "  height: intrinsic;\n",
       "  max-width: 100%;\n",
       "}\n",
       ":where(.plot-d6a7b5 text),\n",
       ":where(.plot-d6a7b5 tspan) {\n",
       "  white-space: pre;\n",
       "}</style><g aria-label=\"fy-axis tick label\" transform=\"translate(-9,0)\"><g text-anchor=\"end\" transform=\"translate(0,0)\"><text y=\"0.32em\" transform=\"translate(40,41)\">md5</text></g><g text-anchor=\"end\" transform=\"translate(0,24)\"><text y=\"0.32em\" transform=\"translate(40,41)\">sha1</text></g><g text-anchor=\"end\" transform=\"translate(0,48)\"><text y=\"0.32em\" transform=\"translate(40,41)\">sha256</text></g></g><g aria-label=\"fy-axis label\" transform=\"translate(-37,0)\"><text y=\"0.71em\" transform=\"translate(40,65) rotate(-90)\"></text></g><g aria-label=\"x-grid\" aria-hidden=\"true\"><g stroke=\"currentColor\" stroke-opacity=\"0.1\" transform=\"translate(0,0)\"><line x1=\"40\" x2=\"40\" y1=\"30\" y2=\"52\"></line><line x1=\"166.08695652173913\" x2=\"166.08695652173913\" y1=\"30\" y2=\"52\"></line><line x1=\"292.17391304347825\" x2=\"292.17391304347825\" y1=\"30\" y2=\"52\"></line><line x1=\"418.2608695652174\" x2=\"418.2608695652174\" y1=\"30\" y2=\"52\"></line><line x1=\"544.3478260869565\" x2=\"544.3478260869565\" y1=\"30\" y2=\"52\"></line></g><g stroke=\"currentColor\" stroke-opacity=\"0.1\" transform=\"translate(0,24)\"><line x1=\"40\" x2=\"40\" y1=\"30\" y2=\"52\"></line><line x1=\"166.08695652173913\" x2=\"166.08695652173913\" y1=\"30\" y2=\"52\"></line><line x1=\"292.17391304347825\" x2=\"292.17391304347825\" y1=\"30\" y2=\"52\"></line><line x1=\"418.2608695652174\" x2=\"418.2608695652174\" y1=\"30\" y2=\"52\"></line><line x1=\"544.3478260869565\" x2=\"544.3478260869565\" y1=\"30\" y2=\"52\"></line></g><g stroke=\"currentColor\" stroke-opacity=\"0.1\" transform=\"translate(0,48)\"><line x1=\"40\" x2=\"40\" y1=\"30\" y2=\"52\"></line><line x1=\"166.08695652173913\" x2=\"166.08695652173913\" y1=\"30\" y2=\"52\"></line><line x1=\"292.17391304347825\" x2=\"292.17391304347825\" y1=\"30\" y2=\"52\"></line><line x1=\"418.2608695652174\" x2=\"418.2608695652174\" y1=\"30\" y2=\"52\"></line><line x1=\"544.3478260869565\" x2=\"544.3478260869565\" y1=\"30\" y2=\"52\"></line></g></g><g aria-label=\"x-axis tick\" aria-hidden=\"true\"><g fill=\"none\" stroke=\"currentColor\" transform=\"translate(0,0)\"><path transform=\"translate(40,30)\" d=\"M0,0L0,-6\"></path><path transform=\"translate(166.08695652173913,30)\" d=\"M0,0L0,-6\"></path><path transform=\"translate(292.17391304347825,30)\" d=\"M0,0L0,-6\"></path><path transform=\"translate(418.2608695652174,30)\" d=\"M0,0L0,-6\"></path><path transform=\"translate(544.3478260869565,30)\" d=\"M0,0L0,-6\"></path></g></g><g aria-label=\"x-axis tick label\" transform=\"translate(0,-9)\"><g font-variant=\"tabular-nums\" transform=\"translate(0,0)\"><text transform=\"translate(40,30)\">0</text><text transform=\"translate(166.08695652173913,30)\">500</text><text transform=\"translate(292.17391304347825,30)\">1,000</text><text transform=\"translate(418.2608695652174,30)\">1,500</text><text transform=\"translate(544.3478260869565,30)\">2,000</text></g></g><g aria-label=\"x-axis label\" text-anchor=\"end\" transform=\"translate(17,-27)\"><text y=\"0.71em\" transform=\"translate(620,30)\">Seconds →</text></g><g aria-label=\"bar\"><g transform=\"translate(0,0)\"><rect x=\"40\" width=\"490.49104964570586\" y=\"30\" height=\"22\"></rect></g><g transform=\"translate(0,24)\"><rect x=\"40\" width=\"237.17583844582106\" y=\"30\" height=\"22\"></rect></g><g transform=\"translate(0,48)\"><rect x=\"40\" width=\"250.4624822610308\" y=\"30\" height=\"22\"></rect></g></g><g aria-label=\"text\" transform=\"translate(3,0)\"><g text-anchor=\"start\" font-variant=\"tabular-nums\" transform=\"translate(0,0)\"><text y=\"0.32em\" transform=\"translate(530.4910496457059,41)\">1,945.051</text></g><g text-anchor=\"start\" font-variant=\"tabular-nums\" transform=\"translate(0,24)\"><text y=\"0.32em\" transform=\"translate(277.17583844582106,41)\">940.525</text></g><g text-anchor=\"start\" font-variant=\"tabular-nums\" transform=\"translate(0,48)\"><text y=\"0.32em\" transform=\"translate(290.4624822610308,41)\">993.213</text></g></g></svg></figure>"
      ]
     },
     "execution_count": 8,
     "metadata": {},
     "output_type": "execute_result"
    }
   ],
   "source": [
    "import { plotBars, samples } from \"./helper.ts\";\n",
    "\n",
    "const scalingFactor = Math.pow(2, 40) / benchmarkFileSize / 1000\n",
    "\n",
    "plotBars({\n",
    "    data: [[\n",
    "      [\"md5\", samples(5, ()=>benchmarkOpenssl(\"md5\")*scalingFactor)],\n",
    "      [\"sha1\", samples(5, ()=>benchmarkOpenssl(\"sha1\")*scalingFactor)],\n",
    "      [\"sha256\", samples(5, ()=>benchmarkOpenssl(\"sha256\")*scalingFactor)],\n",
    "    ]],\n",
    "    yName: \"Seconds\",\n",
    "  });"
   ]
  }
 ],
 "metadata": {
  "kernelspec": {
   "display_name": "Deno",
   "language": "typescript",
   "name": "deno"
  },
  "language_info": {
   "codemirror_mode": "typescript",
   "file_extension": ".ts",
   "mimetype": "text/x.typescript",
   "name": "typescript",
   "nbconvert_exporter": "script",
   "pygments_lexer": "typescript",
   "version": "5.4.5"
  }
 },
 "nbformat": 4,
 "nbformat_minor": 2
}
